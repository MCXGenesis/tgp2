{
 "cells": [
  {
   "cell_type": "code",
   "execution_count": 16,
   "id": "ca4621e0",
   "metadata": {},
   "outputs": [],
   "source": [
    "import pandas as pd\n",
    "import numpy as np\n",
    "import matplotlib.pyplot as plt\n",
    "from sklearn.model_selection import StratifiedKFold, train_test_split"
   ]
  },
  {
   "cell_type": "markdown",
   "id": "0a85cd13",
   "metadata": {},
   "source": [
    "Pisahkan keseluruhan data menjadi data pelatihan sebanyak 75% dan data tes \n",
    "sebanyak 25%. Baik untuk data pelatihan dan data tes harus dibagi secara proporsional \n",
    "untuk masing-masing kelas label menggunakan *stratified sampling*. Tunjukkan statistik \n",
    "dari hasil pemisahan data tersebut."
   ]
  },
  {
   "cell_type": "code",
   "execution_count": 17,
   "id": "883b5187",
   "metadata": {},
   "outputs": [
    {
     "name": "stdout",
     "output_type": "stream",
     "text": [
      "0        1.0\n",
      "1        0.0\n",
      "2        0.0\n",
      "3        0.0\n",
      "4        0.0\n",
      "        ... \n",
      "48739    0.0\n",
      "48740    0.0\n",
      "48741    0.0\n",
      "48742    0.0\n",
      "48743    0.0\n",
      "Name: TARGET, Length: 48744, dtype: float64\n",
      "Index(['SK_ID_CURR', 'NAME_CONTRACT_TYPE', 'FLAG_OWN_CAR', 'FLAG_OWN_REALTY',\n",
      "       'CNT_CHILDREN', 'AMT_INCOME_TOTAL', 'AMT_CREDIT', 'AMT_ANNUITY',\n",
      "       'AMT_GOODS_PRICE', 'REGION_POPULATION_RELATIVE',\n",
      "       ...\n",
      "       'HOUSETYPE_MODE_block of flats', 'HOUSETYPE_MODE_specific housing',\n",
      "       'HOUSETYPE_MODE_terraced house', 'WALLSMATERIAL_MODE_Block',\n",
      "       'WALLSMATERIAL_MODE_Mixed', 'WALLSMATERIAL_MODE_Monolithic',\n",
      "       'WALLSMATERIAL_MODE_Others', 'WALLSMATERIAL_MODE_Panel',\n",
      "       'WALLSMATERIAL_MODE_Stone, brick', 'WALLSMATERIAL_MODE_Wooden'],\n",
      "      dtype='object', length=236)\n"
     ]
    }
   ],
   "source": [
    "train_df = pd.read_csv('app_train_cleaned_encoded.csv')\n",
    "test_df = pd.read_csv('app_test_cleaned_encoded.csv')\n",
    "\n",
    "print(train_df['TARGET'])\n",
    "print(test_df.columns)"
   ]
  },
  {
   "cell_type": "code",
   "execution_count": 18,
   "id": "e473a495",
   "metadata": {},
   "outputs": [
    {
     "name": "stdout",
     "output_type": "stream",
     "text": [
      "Jumlah data sebelum split:\n",
      "TARGET\n",
      "0.0    0.919436\n",
      "1.0    0.080564\n",
      "Name: proportion, dtype: float64\n",
      "\n",
      "Jumlah data setelah split:\n",
      "Train set:\n",
      "TARGET\n",
      "0.0    0.919443\n",
      "1.0    0.080557\n",
      "Name: proportion, dtype: float64\n",
      "\n",
      "Test set:\n",
      "TARGET\n",
      "0.0    0.919416\n",
      "1.0    0.080584\n",
      "Name: proportion, dtype: float64\n"
     ]
    }
   ],
   "source": [
    "\n",
    "# Pisahkan fitur dan label\n",
    "X = train_df.drop(columns=['SK_ID_CURR', 'TARGET'])\n",
    "y = train_df['TARGET']\n",
    "\n",
    "# Split data menjadi train dan test 75%-25% dengan stratified sampling\n",
    "X_train, X_test, y_train, y_test = train_test_split(\n",
    "    X, y, \n",
    "    test_size=0.25, \n",
    "    stratify=y, \n",
    "    random_state=42\n",
    ")\n",
    "\n",
    "# Cek statistik hasil split\n",
    "print(\"Jumlah data sebelum split:\")\n",
    "print(y.value_counts(normalize=True))\n",
    "print()\n",
    "\n",
    "print(\"Jumlah data setelah split:\")\n",
    "print(\"Train set:\")\n",
    "print(y_train.value_counts(normalize=True))\n",
    "print()\n",
    "print(\"Test set:\")\n",
    "print(y_test.value_counts(normalize=True))"
   ]
  },
  {
   "cell_type": "markdown",
   "id": "3faaa1ba",
   "metadata": {},
   "source": [
    "Guna memperoleh model klasifikasi terbaik untuk beberapa metode klasifikai yang harus \n",
    "diimplementasikan, gunakan keseluruhan data pelatihan menggunakan *10-fold cross \n",
    "validation*. Gunakan metode stratified sampling dalam menentukan pembagian data \n",
    "dalam 10-fold cross validation. "
   ]
  },
  {
   "cell_type": "code",
   "execution_count": 19,
   "id": "3648310a",
   "metadata": {},
   "outputs": [],
   "source": [
    "# Set up 10-fold stratified cross-validation\n",
    "kfold = StratifiedKFold(n_splits=10, shuffle=True, random_state=42)\n",
    "\n",
    "# Kfold splitter\n",
    "strat_kfold = StratifiedKFold(n_splits=10, shuffle=True, random_state=130)"
   ]
  },
  {
   "cell_type": "code",
   "execution_count": 20,
   "id": "b16f3c09",
   "metadata": {},
   "outputs": [
    {
     "name": "stdout",
     "output_type": "stream",
     "text": [
      "Fold 0\n",
      "  Train: index=[0 2 3 4 6]... (43869 rows)\n",
      "  Test:  index=[ 1  5 24 36 54]... (4875 rows)\n",
      "Fold 1\n",
      "  Train: index=[0 1 2 3 4]... (43869 rows)\n",
      "  Test:  index=[10 13 38 46 52]... (4875 rows)\n",
      "Fold 2\n",
      "  Train: index=[0 1 2 3 4]... (43869 rows)\n",
      "  Test:  index=[17 21 34 37 39]... (4875 rows)\n",
      "Fold 3\n",
      "  Train: index=[1 3 4 5 6]... (43869 rows)\n",
      "  Test:  index=[ 0  2  8 31 50]... (4875 rows)\n",
      "Fold 4\n",
      "  Train: index=[0 1 2 3 4]... (43870 rows)\n",
      "  Test:  index=[ 9 11 14 19 33]... (4874 rows)\n",
      "Fold 5\n",
      "  Train: index=[0 1 2 3 4]... (43870 rows)\n",
      "  Test:  index=[20 30 48 70 76]... (4874 rows)\n",
      "Fold 6\n",
      "  Train: index=[0 1 2 3 4]... (43870 rows)\n",
      "  Test:  index=[18 22 29 32 40]... (4874 rows)\n",
      "Fold 7\n",
      "  Train: index=[0 1 2 3 5]... (43870 rows)\n",
      "  Test:  index=[ 4  6 15 16 25]... (4874 rows)\n",
      "Fold 8\n",
      "  Train: index=[0 1 2 4 5]... (43870 rows)\n",
      "  Test:  index=[ 3 23 45 67 71]... (4874 rows)\n",
      "Fold 9\n",
      "  Train: index=[0 1 2 3 4]... (43870 rows)\n",
      "  Test:  index=[ 7 12 27 35 64]... (4874 rows)\n"
     ]
    }
   ],
   "source": [
    "train_set_kfold = []\n",
    "test_set_kfold = []\n",
    "\n",
    "for fold, (train_index, test_index) in enumerate(kfold.split(X,y)):\n",
    "    print(f\"Fold {fold}\")\n",
    "    print(f\"  Train: index={train_index[:5]}... ({len(train_index)} rows)\")\n",
    "    print(f\"  Test:  index={test_index[:5]}... ({len(test_index)} rows)\")\n",
    "    train_set_kfold.append(train_index)\n",
    "    test_set_kfold.append(test_index)\n"
   ]
  },
  {
   "cell_type": "markdown",
   "id": "2cb02238",
   "metadata": {},
   "source": [
    "NAIVE BAYES"
   ]
  },
  {
   "cell_type": "markdown",
   "id": "e1e46e02",
   "metadata": {},
   "source": [
    "Eksperimen untuk memperoleh model klasifikasi berbasis Naïve bayes terbaik menggunakan 10 kombinasi data pelatihan dan data validasi dari 10-fold cross validation \n",
    "\n",
    "Hitung akurasi, presisi, recall, f1-score, dan AUC ROC dari setiap data validasi dari langkah ke-1.  "
   ]
  },
  {
   "cell_type": "code",
   "execution_count": 21,
   "id": "8442b21d",
   "metadata": {},
   "outputs": [
    {
     "name": "stdout",
     "output_type": "stream",
     "text": [
      "   fold  accuracy  precision    recall  f1_score   auc_roc\n",
      "0     1  0.121171   0.081205  0.962585  0.149775  0.501260\n",
      "1     2  0.111324   0.081089  0.972789  0.149699  0.507753\n",
      "2     3  0.124726   0.079328  0.931973  0.146211  0.486520\n",
      "3     4  0.110777   0.081066  0.969492  0.149621  0.505535\n",
      "4     5  0.103665   0.080944  0.976271  0.149494  0.498342\n",
      "5     6  0.114059   0.081104  0.966102  0.149646  0.501010\n",
      "6     7  0.111597   0.080182  0.955932  0.147954  0.500238\n",
      "7     8  0.107495   0.081028  0.972881  0.149596  0.503469\n",
      "8     9  0.110534   0.080567  0.965986  0.148730  0.506470\n",
      "9    10  0.112175   0.080943  0.969388  0.149410  0.508930\n"
     ]
    }
   ],
   "source": [
    "from sklearn.model_selection import StratifiedKFold\n",
    "from sklearn.naive_bayes import GaussianNB\n",
    "from sklearn.metrics import accuracy_score, precision_score, recall_score, f1_score, roc_auc_score\n",
    "import pandas as pd\n",
    "\n",
    "# Set up 10-fold cross-validation\n",
    "cv = StratifiedKFold(n_splits=10, shuffle=True, random_state=42)\n",
    "nb_model = GaussianNB()\n",
    "\n",
    "# Untuk menyimpan metrik dari setiap fold\n",
    "results = {\n",
    "    'fold': [],\n",
    "    'accuracy': [],\n",
    "    'precision': [],\n",
    "    'recall': [],\n",
    "    'f1_score': [],\n",
    "    'auc_roc': []\n",
    "}\n",
    "\n",
    "# 10 kali training dan evaluasi\n",
    "for fold, (train_idx, val_idx) in enumerate(cv.split(X_train, y_train), 1):\n",
    "    X_tr, X_val = X_train.iloc[train_idx], X_train.iloc[val_idx]\n",
    "    y_tr, y_val = y_train.iloc[train_idx], y_train.iloc[val_idx]\n",
    "    \n",
    "    # Train model\n",
    "    nb_model.fit(X_tr, y_tr)\n",
    "    \n",
    "    # Predict\n",
    "    y_val_pred = nb_model.predict(X_val)\n",
    "    y_val_proba = nb_model.predict_proba(X_val)[:, 1]\n",
    "    \n",
    "    # Hitung metrik\n",
    "    acc = accuracy_score(y_val, y_val_pred)\n",
    "    prec = precision_score(y_val, y_val_pred)\n",
    "    rec = recall_score(y_val, y_val_pred)\n",
    "    f1 = f1_score(y_val, y_val_pred)\n",
    "    auc = roc_auc_score(y_val, y_val_proba)\n",
    "    \n",
    "    # Simpan hasil\n",
    "    results['fold'].append(fold)\n",
    "    results['accuracy'].append(acc)\n",
    "    results['precision'].append(prec)\n",
    "    results['recall'].append(rec)\n",
    "    results['f1_score'].append(f1)\n",
    "    results['auc_roc'].append(auc)\n",
    "\n",
    "# Ubah ke DataFrame untuk analisis\n",
    "results_df = pd.DataFrame(results)\n",
    "print(results_df)\n"
   ]
  },
  {
   "cell_type": "markdown",
   "id": "3c67b5b4",
   "metadata": {},
   "source": [
    "Kemudian jalankan model yang dihasilkan pada lengkah ke-3 pada keseluruhan data pelatihan (fit the model) dan hitung kinerja (akurasi, presisi, recall, f1-score, dan AUC ROC) dari model menggunakan Naïve Bayes "
   ]
  },
  {
   "cell_type": "code",
   "execution_count": 22,
   "id": "693d461f",
   "metadata": {},
   "outputs": [
    {
     "name": "stdout",
     "output_type": "stream",
     "text": [
      "=== Evaluasi Model Naive Bayes (Fold ke-0) ===\n",
      "Accuracy  : 0.121171\n",
      "Precision : 0.081205\n",
      "Recall    : 0.962585\n",
      "F1 Score  : 0.149775\n",
      "AUC-ROC   : 0.501260\n",
      "\n",
      "Classification Report:\n",
      "              precision    recall  f1-score   support\n",
      "\n",
      "         0.0       0.94      0.05      0.09      3362\n",
      "         1.0       0.08      0.96      0.15       294\n",
      "\n",
      "    accuracy                           0.12      3656\n",
      "   macro avg       0.51      0.51      0.12      3656\n",
      "weighted avg       0.87      0.12      0.10      3656\n",
      "\n",
      "Confusion Matrix:\n",
      "[[ 160 3202]\n",
      " [  11  283]]\n"
     ]
    }
   ],
   "source": [
    "from sklearn.naive_bayes import GaussianNB\n",
    "from sklearn.model_selection import StratifiedKFold\n",
    "from sklearn.metrics import accuracy_score, precision_score, recall_score, f1_score, roc_auc_score, classification_report, confusion_matrix\n",
    "\n",
    "# Definisikan StratifiedKFold\n",
    "cv = StratifiedKFold(n_splits=10, shuffle=True, random_state=42)\n",
    "\n",
    "# Ambil data training dan validasi dari fold ke-0\n",
    "train_idx, val_idx = list(cv.split(X_train, y_train))[0]\n",
    "X_fold_train, X_fold_val = X_train.iloc[train_idx], X_train.iloc[val_idx]\n",
    "y_fold_train, y_fold_val = y_train.iloc[train_idx], y_train.iloc[val_idx]\n",
    "\n",
    "# Inisialisasi dan fit model\n",
    "nb_model = GaussianNB()\n",
    "nb_model.fit(X_fold_train, y_fold_train)\n",
    "\n",
    "# Prediksi\n",
    "y_pred = nb_model.predict(X_fold_val)\n",
    "y_proba = nb_model.predict_proba(X_fold_val)[:, 1]\n",
    "\n",
    "# Evaluasi metrik\n",
    "acc = accuracy_score(y_fold_val, y_pred)\n",
    "prec = precision_score(y_fold_val, y_pred, zero_division=0)\n",
    "rec = recall_score(y_fold_val, y_pred, zero_division=0)\n",
    "f1 = f1_score(y_fold_val, y_pred, zero_division=0)\n",
    "auc = roc_auc_score(y_fold_val, y_proba)\n",
    "\n",
    "# Tampilkan hasil\n",
    "print(\"=== Evaluasi Model Naive Bayes (Fold ke-0) ===\")\n",
    "print(f\"Accuracy  : {acc:.6f}\")\n",
    "print(f\"Precision : {prec:.6f}\")\n",
    "print(f\"Recall    : {rec:.6f}\")\n",
    "print(f\"F1 Score  : {f1:.6f}\")\n",
    "print(f\"AUC-ROC   : {auc:.6f}\")\n",
    "print(\"\\nClassification Report:\")\n",
    "print(classification_report(y_fold_val, y_pred, zero_division=0))\n",
    "print(\"Confusion Matrix:\")\n",
    "print(confusion_matrix(y_fold_val, y_pred))\n"
   ]
  },
  {
   "cell_type": "code",
   "execution_count": null,
   "id": "11a99ca2",
   "metadata": {},
   "outputs": [],
   "source": [
    "from sklearn.naive_bayes import GaussianNB\n",
    "from sklearn.model_selection import train_test_split\n",
    "\n",
    "# Misalnya X_train, y_train adalah data training yang sudah dipersiapkan\n",
    "model_naive_bayes = GaussianNB()\n",
    "\n",
    "# Melatih model dengan data training\n",
    "model_naive_bayes.fit(X_train, y_train)\n",
    "\n",
    "# Setelah model dilatih, gunakan model ini untuk prediksi\n",
    "y_test_pred = model_naive_bayes.predict(X_test) \n",
    "y_test_proba = model_naive_bayes.predict_proba(X_test)[:, 1]\n"
   ]
  },
  {
   "cell_type": "markdown",
   "id": "b7d23b7f",
   "metadata": {},
   "source": [
    "gunakan model Naives bayes terbaik untuk memprediksi (predict the model) semua record dari data tes. Hitung akurasi, presisi, recall, f1-score, dan AUC ROC dari model terbaik pada data tes (data yang sama sekali tidak digunakan dalam membangun model terbaik).  "
   ]
  },
  {
   "cell_type": "code",
   "execution_count": 25,
   "id": "bc27fe95",
   "metadata": {},
   "outputs": [
    {
     "name": "stdout",
     "output_type": "stream",
     "text": [
      "=== Evaluasi Model Naive Bayes pada Data Test ===\n",
      "Accuracy  : 0.109388\n",
      "Precision : 0.080849\n",
      "Recall    : 0.969450\n",
      "F1 Score  : 0.149251\n",
      "AUC-ROC   : 0.503443\n",
      "\n",
      "Classification Report:\n",
      "              precision    recall  f1-score   support\n",
      "\n",
      "         0.0       0.93      0.03      0.07     11204\n",
      "         1.0       0.08      0.97      0.15       982\n",
      "\n",
      "    accuracy                           0.11     12186\n",
      "   macro avg       0.50      0.50      0.11     12186\n",
      "weighted avg       0.86      0.11      0.07     12186\n",
      "\n",
      "\n",
      "Confusion Matrix:\n",
      "[[  381 10823]\n",
      " [   30   952]]\n"
     ]
    }
   ],
   "source": [
    "# Prediksi pada data test\n",
    "y_test_pred = model_naive_bayes.predict(X_test)  \n",
    "y_test_proba = model_naive_bayes.predict_proba(X_test)[:, 1]\n",
    "\n",
    "# Menghitung metrik evaluasi\n",
    "accuracy = accuracy_score(y_test, y_test_pred)\n",
    "precision = precision_score(y_test, y_test_pred, zero_division=0)\n",
    "recall = recall_score(y_test, y_test_pred, zero_division=0)\n",
    "f1 = f1_score(y_test, y_test_pred, zero_division=0)\n",
    "auc_roc = roc_auc_score(y_test, y_test_proba)\n",
    "\n",
    "# Menampilkan hasil\n",
    "print(f\"=== Evaluasi Model Naive Bayes pada Data Test ===\")\n",
    "print(f\"Accuracy  : {accuracy:.6f}\")\n",
    "print(f\"Precision : {precision:.6f}\")\n",
    "print(f\"Recall    : {recall:.6f}\")\n",
    "print(f\"F1 Score  : {f1:.6f}\")\n",
    "print(f\"AUC-ROC   : {auc_roc:.6f}\")\n",
    "\n",
    "# Menampilkan classification report\n",
    "print(\"\\nClassification Report:\")\n",
    "print(classification_report(y_test, y_test_pred))\n",
    "\n",
    "# Menampilkan confusion matrix\n",
    "print(\"\\nConfusion Matrix:\")\n",
    "print(confusion_matrix(y_test, y_test_pred))"
   ]
  },
  {
   "cell_type": "markdown",
   "id": "7fc5951e",
   "metadata": {},
   "source": [
    "HASIL EKSPERIMAN NAIVE BAYES \n",
    "\n",
    "Model Naive Bayes yang dilatih pada fold ke-0 menunjukkan performa yang sangat buruk, dengan akurasi rendah (~11%), precision rendah (~8%), dan AUC-ROC mendekati 0.5, yang menandakan model tidak mampu membedakan antara kelas. Meskipun recall tinggi (>96%), hal ini terjadi karena model cenderung memprediksi hampir semua data sebagai kelas positif, akibat dari ketidakseimbangan kelas yang signifikan. Secara keseluruhan, model ini tidak cocok digunakan pada dataset ini"
   ]
  }
 ],
 "metadata": {
  "kernelspec": {
   "display_name": "Python 3",
   "language": "python",
   "name": "python3"
  },
  "language_info": {
   "codemirror_mode": {
    "name": "ipython",
    "version": 3
   },
   "file_extension": ".py",
   "mimetype": "text/x-python",
   "name": "python",
   "nbconvert_exporter": "python",
   "pygments_lexer": "ipython3",
   "version": "3.13.2"
  }
 },
 "nbformat": 4,
 "nbformat_minor": 5
}
