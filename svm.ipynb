{
 "cells": [
  {
   "cell_type": "code",
   "execution_count": 12,
   "id": "ca4621e0",
   "metadata": {},
   "outputs": [],
   "source": [
    "import pandas as pd\n",
    "import numpy as np\n",
    "import matplotlib.pyplot as plt\n",
    "from sklearn.preprocessing import StandardScaler\n",
    "from sklearn.model_selection import StratifiedKFold, train_test_split"
   ]
  },
  {
   "cell_type": "markdown",
   "id": "0a85cd13",
   "metadata": {},
   "source": [
    "Pisahkan keseluruhan data menjadi data pelatihan sebanyak 75% dan data tes \n",
    "sebanyak 25%. Baik untuk data pelatihan dan data tes harus dibagi secara proporsional \n",
    "untuk masing-masing kelas label menggunakan *stratified sampling*. Tunjukkan statistik \n",
    "dari hasil pemisahan data tersebut."
   ]
  },
  {
   "cell_type": "code",
   "execution_count": 13,
   "id": "883b5187",
   "metadata": {},
   "outputs": [
    {
     "name": "stdout",
     "output_type": "stream",
     "text": [
      "0        1.0\n",
      "1        0.0\n",
      "2        0.0\n",
      "3        0.0\n",
      "4        0.0\n",
      "        ... \n",
      "48739    0.0\n",
      "48740    0.0\n",
      "48741    0.0\n",
      "48742    0.0\n",
      "48743    0.0\n",
      "Name: TARGET, Length: 48744, dtype: float64\n",
      "Index(['SK_ID_CURR', 'NAME_CONTRACT_TYPE', 'FLAG_OWN_CAR', 'FLAG_OWN_REALTY',\n",
      "       'CNT_CHILDREN', 'AMT_INCOME_TOTAL', 'AMT_CREDIT', 'AMT_ANNUITY',\n",
      "       'AMT_GOODS_PRICE', 'REGION_POPULATION_RELATIVE',\n",
      "       ...\n",
      "       'HOUSETYPE_MODE_block of flats', 'HOUSETYPE_MODE_specific housing',\n",
      "       'HOUSETYPE_MODE_terraced house', 'WALLSMATERIAL_MODE_Block',\n",
      "       'WALLSMATERIAL_MODE_Mixed', 'WALLSMATERIAL_MODE_Monolithic',\n",
      "       'WALLSMATERIAL_MODE_Others', 'WALLSMATERIAL_MODE_Panel',\n",
      "       'WALLSMATERIAL_MODE_Stone, brick', 'WALLSMATERIAL_MODE_Wooden'],\n",
      "      dtype='object', length=236)\n"
     ]
    }
   ],
   "source": [
    "train_df = pd.read_csv('app_train_cleaned_encoded.csv')\n",
    "test_df = pd.read_csv('app_test_cleaned_encoded.csv')\n",
    "\n",
    "print(train_df['TARGET'])\n",
    "print(test_df.columns)"
   ]
  },
  {
   "cell_type": "code",
   "execution_count": 14,
   "id": "e473a495",
   "metadata": {},
   "outputs": [
    {
     "name": "stdout",
     "output_type": "stream",
     "text": [
      "Jumlah data sebelum split:\n",
      "TARGET\n",
      "0.0    0.919436\n",
      "1.0    0.080564\n",
      "Name: proportion, dtype: float64\n",
      "\n",
      "Jumlah data setelah split:\n",
      "Train set:\n",
      "TARGET\n",
      "0.0    0.919443\n",
      "1.0    0.080557\n",
      "Name: proportion, dtype: float64\n",
      "\n",
      "Test set:\n",
      "TARGET\n",
      "0.0    0.919416\n",
      "1.0    0.080584\n",
      "Name: proportion, dtype: float64\n"
     ]
    }
   ],
   "source": [
    "\n",
    "# Pisahkan fitur dan label\n",
    "X = train_df.drop(columns=['SK_ID_CURR', 'TARGET'])\n",
    "y = train_df['TARGET']\n",
    "\n",
    "\n",
    "# Split data menjadi train dan test 75%-25% dengan stratified sampling\n",
    "X_train, X_test, y_train, y_test = train_test_split(\n",
    "    X, y, \n",
    "    test_size=0.25, \n",
    "    stratify=y, \n",
    "    random_state=42\n",
    ")\n",
    "\n",
    "# Cek statistik hasil split\n",
    "print(\"Jumlah data sebelum split:\")\n",
    "print(y.value_counts(normalize=True))\n",
    "print()\n",
    "\n",
    "print(\"Jumlah data setelah split:\")\n",
    "print(\"Train set:\")\n",
    "print(y_train.value_counts(normalize=True))\n",
    "print()\n",
    "print(\"Test set:\")\n",
    "print(y_test.value_counts(normalize=True))"
   ]
  },
  {
   "cell_type": "code",
   "execution_count": 15,
   "id": "6e58876f",
   "metadata": {},
   "outputs": [],
   "source": [
    "scaler = StandardScaler()\n",
    "X_train_scaled = scaler.fit_transform(X_train)\n",
    "X_test_scaled = scaler.fit_transform(X_test)"
   ]
  },
  {
   "cell_type": "markdown",
   "id": "3faaa1ba",
   "metadata": {},
   "source": [
    "Guna memperoleh model klasifikasi terbaik untuk beberapa metode klasifikai yang harus \n",
    "diimplementasikan, gunakan keseluruhan data pelatihan menggunakan *10-fold cross \n",
    "validation*. Gunakan metode stratified sampling dalam menentukan pembagian data \n",
    "dalam 10-fold cross validation. "
   ]
  },
  {
   "cell_type": "code",
   "execution_count": 16,
   "id": "3648310a",
   "metadata": {},
   "outputs": [],
   "source": [
    "# Set up 10-fold stratified cross-validation\n",
    "kfold = StratifiedKFold(n_splits=10, shuffle=True, random_state=42)\n",
    "\n",
    "# Kfold splitter\n",
    "strat_kfold = StratifiedKFold(n_splits=10, shuffle=True, random_state=130)"
   ]
  },
  {
   "cell_type": "code",
   "execution_count": 17,
   "id": "b16f3c09",
   "metadata": {},
   "outputs": [
    {
     "name": "stdout",
     "output_type": "stream",
     "text": [
      "Fold 0\n",
      "  Train: index=[0 2 3 4 6]... (43869 rows)\n",
      "  Test:  index=[ 1  5 24 36 54]... (4875 rows)\n",
      "Fold 1\n",
      "  Train: index=[0 1 2 3 4]... (43869 rows)\n",
      "  Test:  index=[10 13 38 46 52]... (4875 rows)\n",
      "Fold 2\n",
      "  Train: index=[0 1 2 3 4]... (43869 rows)\n",
      "  Test:  index=[17 21 34 37 39]... (4875 rows)\n",
      "Fold 3\n",
      "  Train: index=[1 3 4 5 6]... (43869 rows)\n",
      "  Test:  index=[ 0  2  8 31 50]... (4875 rows)\n",
      "Fold 4\n",
      "  Train: index=[0 1 2 3 4]... (43870 rows)\n",
      "  Test:  index=[ 9 11 14 19 33]... (4874 rows)\n",
      "Fold 5\n",
      "  Train: index=[0 1 2 3 4]... (43870 rows)\n",
      "  Test:  index=[20 30 48 70 76]... (4874 rows)\n",
      "Fold 6\n",
      "  Train: index=[0 1 2 3 4]... (43870 rows)\n",
      "  Test:  index=[18 22 29 32 40]... (4874 rows)\n",
      "Fold 7\n",
      "  Train: index=[0 1 2 3 5]... (43870 rows)\n",
      "  Test:  index=[ 4  6 15 16 25]... (4874 rows)\n",
      "Fold 8\n",
      "  Train: index=[0 1 2 4 5]... (43870 rows)\n",
      "  Test:  index=[ 3 23 45 67 71]... (4874 rows)\n",
      "Fold 9\n",
      "  Train: index=[0 1 2 3 4]... (43870 rows)\n",
      "  Test:  index=[ 7 12 27 35 64]... (4874 rows)\n"
     ]
    }
   ],
   "source": [
    "train_set_kfold = []\n",
    "test_set_kfold = []\n",
    "\n",
    "for fold, (train_index, test_index) in enumerate(kfold.split(X,y)):\n",
    "    print(f\"Fold {fold}\")\n",
    "    print(f\"  Train: index={train_index[:5]}... ({len(train_index)} rows)\")\n",
    "    print(f\"  Test:  index={test_index[:5]}... ({len(test_index)} rows)\")\n",
    "    train_set_kfold.append(train_index)\n",
    "    test_set_kfold.append(test_index)\n"
   ]
  },
  {
   "cell_type": "markdown",
   "id": "2cb02238",
   "metadata": {},
   "source": [
    "SVM"
   ]
  },
  {
   "cell_type": "code",
   "execution_count": 18,
   "id": "c8f43f24",
   "metadata": {},
   "outputs": [],
   "source": [
    "import numpy as np\n",
    "import pandas as pd\n",
    "from joblib import Parallel, delayed\n",
    "from sklearn.model_selection import cross_val_predict\n",
    "from sklearn.svm import SVC\n",
    "from sklearn.model_selection import StratifiedKFold\n",
    "from sklearn.metrics import accuracy_score, precision_score, recall_score, f1_score, roc_auc_score\n",
    "from sklearn.preprocessing import StandardScaler\n",
    "from sklearn.pipeline import make_pipeline"
   ]
  },
  {
   "cell_type": "code",
   "execution_count": 19,
   "id": "9a6889c0",
   "metadata": {},
   "outputs": [],
   "source": [
    "cv = StratifiedKFold(n_splits=10, shuffle=True, random_state=42)"
   ]
  },
  {
   "cell_type": "markdown",
   "id": "f6153529",
   "metadata": {},
   "source": [
    "Eksperimen untuk memperoleh model klasifikasi SVM terbaik menggunakan kombinasi dua jenis kernel: linear dan radial basis function (RBF) serta lima parameter C yang dapat anda tentukan sendiri dalam eksperimen. Untuk ini secara total akan terdapat 10 kombinasi nilai parameter kernel dan C. \n",
    "\n",
    "Untuk setiap komibinasi nilai seperti disebutkan dalam langkah pertama, jalankan model klasifikasi SVM menggunakan 10-cros validation. Untuk ini, setiap kombinasi nilai \n",
    "parameter SVM akan memberikan 10 hasil validasi dari model. \n",
    "\n",
    "Hitung akurasi, presisi, recall, f1-score, dan AUC ROC dari setiap data validasi dari langkah ke-2.  \n"
   ]
  },
  {
   "cell_type": "code",
   "execution_count": null,
   "id": "ecc25c1e",
   "metadata": {},
   "outputs": [],
   "source": [
    "kernel_list = ['linear', 'rbf']\n",
    "C_values = [0.1, 1, 10, 100, 1000]\n",
    "\n",
    "parameter_grid = [(k, c) for k in kernel_list for c in C_values]"
   ]
  },
  {
   "cell_type": "code",
   "execution_count": 21,
   "id": "24fe0ede",
   "metadata": {},
   "outputs": [],
   "source": [
    "def evaluate_svm(kernel, C, train_idx, val_idx, X_train, y_train):\n",
    "    X_fold_train, X_fold_val = X_train.iloc[train_idx], X_train.iloc[val_idx]\n",
    "    y_fold_train, y_fold_val = y_train.iloc[train_idx], y_train.iloc[val_idx]\n",
    "\n",
    "    # Buat dan fit model SVM\n",
    "    svm_model = SVC(kernel=kernel, C=C, probability=True, random_state=42)\n",
    "    svm_model.fit(X_fold_train, y_fold_train)\n",
    "    \n",
    "    # Prediksi\n",
    "    y_pred = svm_model.predict(X_fold_val)\n",
    "    y_proba = svm_model.predict_proba(X_fold_val)[:,1]\n",
    "    \n",
    "    # Hitung metrik\n",
    "    metrics = {\n",
    "        'accuracy': accuracy_score(y_fold_val, y_pred),\n",
    "        'precision': precision_score(y_fold_val, y_pred, zero_division=0),\n",
    "        'recall': recall_score(y_fold_val, y_pred, zero_division=0),\n",
    "        'f1_score': f1_score(y_fold_val, y_pred, zero_division=0),\n",
    "        'auc_roc': roc_auc_score(y_fold_val, y_proba)\n",
    "    }\n",
    "    \n",
    "    return metrics"
   ]
  },
  {
   "cell_type": "markdown",
   "id": "8a45a66e",
   "metadata": {},
   "source": [
    "lakukan analisis dari 10 hasil validasi model SVM untuk satu kombinasi parameter yang sedang dilakukan eksperimen (rataan hasil dan juga standar deviasi dari hasil 10-fold cross validation). "
   ]
  },
  {
   "cell_type": "code",
   "execution_count": null,
   "id": "ef82546b",
   "metadata": {},
   "outputs": [],
   "source": [
    "# Kombinasi 1: kernel = linear, C = 0.1\n",
    "kernel = 'linear'\n",
    "C = 0.1\n",
    "print(f\"\\nEvaluating SVM with kernel={kernel} and C={C}\")\n",
    "fold_metrics = Parallel(n_jobs=-1)(\n",
    "    delayed(evaluate_svm)(kernel, C, train_idx, val_idx, X_train, y_train)\n",
    "    for train_idx, val_idx in cv.split(X_train, y_train)\n",
    ")\n",
    "fold_metrics_df = pd.DataFrame(fold_metrics)\n",
    "print(f\"Mean metrics:\\n{fold_metrics_df.mean()}\")\n",
    "print(f\"Std metrics:\\n{fold_metrics_df.std()}\")"
   ]
  },
  {
   "cell_type": "markdown",
   "id": "0d668536",
   "metadata": {},
   "source": [
    "sempat keluar hasil, tapi ketika di run hasilnya hilang, berikut output yang sempat di capture\n",
    "![hasil svm](svm0_1.jpg)"
   ]
  },
  {
   "cell_type": "code",
   "execution_count": null,
   "id": "f67a1450",
   "metadata": {},
   "outputs": [],
   "source": [
    "# Kombinasi 2: kernel = linear, C = 1\n",
    "kernel = 'linear'\n",
    "C = 1\n",
    "print(f\"\\nEvaluating SVM with kernel={kernel} and C={C}\")\n",
    "fold_metrics = Parallel(n_jobs=-1)(\n",
    "    delayed(evaluate_svm)(kernel, C, train_idx, val_idx, X_train, y_train)\n",
    "    for train_idx, val_idx in cv.split(X_train, y_train)\n",
    ")\n",
    "fold_metrics_df = pd.DataFrame(fold_metrics)\n",
    "print(f\"Mean metrics:\\n{fold_metrics_df.mean()}\")\n",
    "print(f\"Std metrics:\\n{fold_metrics_df.std()}\")"
   ]
  },
  {
   "cell_type": "markdown",
   "id": "c509a096",
   "metadata": {},
   "source": [
    "ini juga sempat keluar hasil tapi ketika di run ulang outputnya hilang \n",
    "![hasil svm](svm1.jpg)"
   ]
  },
  {
   "cell_type": "code",
   "execution_count": null,
   "id": "e547ebe9",
   "metadata": {},
   "outputs": [],
   "source": [
    "# Kombinasi 3: kernel = linear, C = 10\n",
    "kernel = 'linear'\n",
    "C = 10\n",
    "print(f\"\\nEvaluating SVM with kernel={kernel} and C={C}\")\n",
    "fold_metrics = Parallel(n_jobs=-1)(\n",
    "    delayed(evaluate_svm)(kernel, C, train_idx, val_idx, X_train, y_train)\n",
    "    for train_idx, val_idx in cv.split(X_train, y_train)\n",
    ")\n",
    "fold_metrics_df = pd.DataFrame(fold_metrics)\n",
    "print(f\"Mean metrics:\\n{fold_metrics_df.mean()}\")\n",
    "print(f\"Std metrics:\\n{fold_metrics_df.std()}\")"
   ]
  },
  {
   "cell_type": "markdown",
   "id": "165e1ac9",
   "metadata": {},
   "source": [
    "HASIL TIDAK KELUAR SETELAH 600 MENIT LEBIH! \n",
    "![hasil svm](svm10.jpg)"
   ]
  },
  {
   "cell_type": "code",
   "execution_count": null,
   "id": "b8955915",
   "metadata": {},
   "outputs": [
    {
     "name": "stdout",
     "output_type": "stream",
     "text": [
      "\n",
      "Evaluating SVM with kernel=linear and C=10\n"
     ]
    }
   ],
   "source": [
    "# Kombinasi 4: kernel = linear, C = 100\n",
    "kernel = 'linear'\n",
    "C = 100\n",
    "print(f\"\\nEvaluating SVM with kernel={kernel} and C={C}\")\n",
    "fold_metrics = Parallel(n_jobs=-1)(\n",
    "    delayed(evaluate_svm)(kernel, C, train_idx, val_idx, X_train, y_train)\n",
    "    for train_idx, val_idx in cv.split(X_train, y_train)\n",
    ")\n",
    "fold_metrics_df = pd.DataFrame(fold_metrics)\n",
    "print(f\"Mean metrics:\\n{fold_metrics_df.mean()}\")\n",
    "print(f\"Std metrics:\\n{fold_metrics_df.std()}\")"
   ]
  },
  {
   "cell_type": "code",
   "execution_count": null,
   "id": "b923ef0d",
   "metadata": {},
   "outputs": [],
   "source": [
    "# Kombinasi 5: kernel = linear, C = 1000\n",
    "kernel = 'linear'\n",
    "C = 1000\n",
    "print(f\"\\nEvaluating SVM with kernel={kernel} and C={C}\")\n",
    "fold_metrics = Parallel(n_jobs=-1)(\n",
    "    delayed(evaluate_svm)(kernel, C, train_idx, val_idx, X_train, y_train)\n",
    "    for train_idx, val_idx in cv.split(X_train, y_train)\n",
    ")\n",
    "fold_metrics_df = pd.DataFrame(fold_metrics)\n",
    "print(f\"Mean metrics:\\n{fold_metrics_df.mean()}\")\n",
    "print(f\"Std metrics:\\n{fold_metrics_df.std()}\")"
   ]
  },
  {
   "cell_type": "code",
   "execution_count": null,
   "id": "6113e87e",
   "metadata": {},
   "outputs": [],
   "source": [
    "# Kombinasi 6: kernel = rbf, C = 0.1\n",
    "kernel = 'rbf'\n",
    "C = 0.1\n",
    "print(f\"\\nEvaluating SVM with kernel={kernel} and C={C}\")\n",
    "fold_metrics = Parallel(n_jobs=-1)(\n",
    "    delayed(evaluate_svm)(kernel, C, train_idx, val_idx, X_train, y_train)\n",
    "    for train_idx, val_idx in cv.split(X_train, y_train)\n",
    ")\n",
    "fold_metrics_df = pd.DataFrame(fold_metrics)\n",
    "print(f\"Mean metrics:\\n{fold_metrics_df.mean()}\")\n",
    "print(f\"Std metrics:\\n{fold_metrics_df.std()}\")"
   ]
  },
  {
   "cell_type": "code",
   "execution_count": null,
   "id": "383c5ceb",
   "metadata": {},
   "outputs": [],
   "source": [
    "# Kombinasi 7: kernel = linear, C = 1\n",
    "kernel = 'rbf'\n",
    "C = 1\n",
    "print(f\"\\nEvaluating SVM with kernel={kernel} and C={C}\")\n",
    "fold_metrics = Parallel(n_jobs=-1)(\n",
    "    delayed(evaluate_svm)(kernel, C, train_idx, val_idx, X_train, y_train)\n",
    "    for train_idx, val_idx in cv.split(X_train, y_train)\n",
    ")\n",
    "fold_metrics_df = pd.DataFrame(fold_metrics)\n",
    "print(f\"Mean metrics:\\n{fold_metrics_df.mean()}\")\n",
    "print(f\"Std metrics:\\n{fold_metrics_df.std()}\")"
   ]
  },
  {
   "cell_type": "code",
   "execution_count": null,
   "id": "a2e12171",
   "metadata": {},
   "outputs": [],
   "source": [
    "# Kombinasi 8: kernel = linear, C = 10\n",
    "kernel = 'rbf'\n",
    "C = 10\n",
    "print(f\"\\nEvaluating SVM with kernel={kernel} and C={C}\")\n",
    "fold_metrics = Parallel(n_jobs=-1)(\n",
    "    delayed(evaluate_svm)(kernel, C, train_idx, val_idx, X_train, y_train)\n",
    "    for train_idx, val_idx in cv.split(X_train, y_train)\n",
    ")\n",
    "fold_metrics_df = pd.DataFrame(fold_metrics)\n",
    "print(f\"Mean metrics:\\n{fold_metrics_df.mean()}\")\n",
    "print(f\"Std metrics:\\n{fold_metrics_df.std()}\")"
   ]
  },
  {
   "cell_type": "code",
   "execution_count": null,
   "id": "495df15c",
   "metadata": {},
   "outputs": [],
   "source": [
    "# Kombinasi 9: kernel = rbf, C = 100\n",
    "kernel = 'rbf'\n",
    "C = 100\n",
    "print(f\"\\nEvaluating SVM with kernel={kernel} and C={C}\")\n",
    "fold_metrics = Parallel(n_jobs=-1)(\n",
    "    delayed(evaluate_svm)(kernel, C, train_idx, val_idx, X_train, y_train)\n",
    "    for train_idx, val_idx in cv.split(X_train, y_train)\n",
    ")\n",
    "fold_metrics_df = pd.DataFrame(fold_metrics)\n",
    "print(f\"Mean metrics:\\n{fold_metrics_df.mean()}\")\n",
    "print(f\"Std metrics:\\n{fold_metrics_df.std()}\")"
   ]
  },
  {
   "cell_type": "code",
   "execution_count": null,
   "id": "0b5267b3",
   "metadata": {},
   "outputs": [],
   "source": [
    "# Kombinasi 10: kernel = linear, C = 1000\n",
    "kernel = 'rbf'\n",
    "C = 1000\n",
    "print(f\"\\nEvaluating SVM with kernel={kernel} and C={C}\")\n",
    "fold_metrics = Parallel(n_jobs=-1)(\n",
    "    delayed(evaluate_svm)(kernel, C, train_idx, val_idx, X_train, y_train)\n",
    "    for train_idx, val_idx in cv.split(X_train, y_train)\n",
    ")\n",
    "fold_metrics_df = pd.DataFrame(fold_metrics)\n",
    "print(f\"Mean metrics:\\n{fold_metrics_df.mean()}\")\n",
    "print(f\"Std metrics:\\n{fold_metrics_df.std()}\")"
   ]
  },
  {
   "cell_type": "markdown",
   "id": "c52f8a69",
   "metadata": {},
   "source": [
    "tentukan kombinasi parameter yang dianggap merupakan model terbaik. Kemudian dengan menggunakan nilai kombinasi parameter terebut, jalankan model SVM pada keseluruhan data pelatihan (fit the model) dan hitung kinerja (akurasi, presisi, recall, f1-score, dan AUC ROC) dari model"
   ]
  },
  {
   "cell_type": "code",
   "execution_count": null,
   "id": "dd68d5f7",
   "metadata": {},
   "outputs": [],
   "source": [
    "#Cari model terbaik berdasarkan mean f1-score\n",
    "results_df = pd.DataFrame(results)\n",
    "best_model_info = results_df.sort_values(by='mean_f1_score', ascending=False).iloc[0]\n",
    "print(\"\\nModel terbaik berdasarkan hasil cross-validation:\")\n",
    "print(best_model_info)"
   ]
  },
  {
   "cell_type": "code",
   "execution_count": null,
   "id": "6894c1bb",
   "metadata": {},
   "outputs": [],
   "source": [
    "#Fit model terbaik ke seluruh data train\n",
    "best_kernel = best_model_info['kernel']\n",
    "best_C = best_model_info['C']\n",
    "\n",
    "final_svm_model = SVC(kernel=best_kernel, C=best_C, probability=True, random_state=42)\n",
    "final_svm_model.fit(X_train, y_train)"
   ]
  },
  {
   "cell_type": "code",
   "execution_count": null,
   "id": "6709119d",
   "metadata": {},
   "outputs": [],
   "source": [
    "#Evaluasi di data train\n",
    "y_train_pred = final_svm_model.predict(X_train)\n",
    "y_train_proba = final_svm_model.predict_proba(X_train)[:,1]\n",
    "\n",
    "print(\"\\nEvaluasi model terbaik pada seluruh data train:\")\n",
    "print(f\"Accuracy: {accuracy_score(y_train, y_train_pred)}\")\n",
    "print(f\"Precision: {precision_score(y_train, y_train_pred, zero_division=0)}\")\n",
    "print(f\"Recall: {recall_score(y_train, y_train_pred, zero_division=0)}\")\n",
    "print(f\"F1 Score: {f1_score(y_train, y_train_pred, zero_division=0)}\")\n",
    "print(f\"AUC ROC: {roc_auc_score(y_train, y_train_proba)}\")"
   ]
  },
  {
   "cell_type": "markdown",
   "id": "d75209f3",
   "metadata": {},
   "source": [
    "gunakan model SVM terbaik untuk memprediksi semua record dari data tes (predict the model). Hitung akurasi, presisi, recall, f1-score, dan AUC ROC dari model terbaik pada data tes (data yang sama sekali tidak digunakan dalam membangun model terbaik). "
   ]
  },
  {
   "cell_type": "code",
   "execution_count": null,
   "id": "5e2b0c23",
   "metadata": {},
   "outputs": [],
   "source": [
    "#Prediksi pada data test\n",
    "y_test_pred = final_svm_model.predict(X_test)\n",
    "y_test_proba = final_svm_model.predict_proba(X_test)[:,1]\n",
    "\n",
    "print(\"\\nEvaluasi model terbaik pada data test:\")\n",
    "print(f\"Accuracy: {accuracy_score(y_test, y_test_pred)}\")\n",
    "print(f\"Precision: {precision_score(y_test, y_test_pred, zero_division=0)}\")\n",
    "print(f\"Recall: {recall_score(y_test, y_test_pred, zero_division=0)}\")\n",
    "print(f\"F1 Score: {f1_score(y_test, y_test_pred, zero_division=0)}\")\n",
    "print(f\"AUC ROC: {roc_auc_score(y_test, y_test_proba)}\")"
   ]
  }
 ],
 "metadata": {
  "kernelspec": {
   "display_name": "Python 3",
   "language": "python",
   "name": "python3"
  },
  "language_info": {
   "codemirror_mode": {
    "name": "ipython",
    "version": 3
   },
   "file_extension": ".py",
   "mimetype": "text/x-python",
   "name": "python",
   "nbconvert_exporter": "python",
   "pygments_lexer": "ipython3",
   "version": "3.13.2"
  }
 },
 "nbformat": 4,
 "nbformat_minor": 5
}
