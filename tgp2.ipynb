{
 "cells": [
  {
   "cell_type": "markdown",
   "id": "01842516",
   "metadata": {},
   "source": [
    "# Tugas Group Project 2"
   ]
  },
  {
   "cell_type": "markdown",
   "id": "46ac1f10",
   "metadata": {},
   "source": [
    "- Rafindra Nabiel Fawwaz\n",
    "- Akhtar Zia Faizarobbi\n",
    "- Naufal Maula Nabil\n",
    "- Sinta Dewi Rahmawati"
   ]
  },
  {
   "cell_type": "markdown",
   "id": "cf886d52",
   "metadata": {},
   "source": [
    "## Pemilahan Data"
   ]
  },
  {
   "cell_type": "markdown",
   "id": "610df4ef",
   "metadata": {},
   "source": [
    "### Import Dataset"
   ]
  },
  {
   "cell_type": "code",
   "execution_count": null,
   "id": "dba18e63",
   "metadata": {},
   "outputs": [],
   "source": [
    "import pandas as pd"
   ]
  },
  {
   "cell_type": "code",
   "execution_count": null,
   "id": "ae61c7fb",
   "metadata": {},
   "outputs": [],
   "source": [
    "train_df = pd.read_csv('app_train_cleaned_encoded.csv')\n",
    "test_df = pd.read_csv('app_test_cleaned_encoded.csv')"
   ]
  },
  {
   "cell_type": "code",
   "execution_count": null,
   "id": "3a8995c2",
   "metadata": {},
   "outputs": [],
   "source": [
    "train_df.shape\n",
    "test_df.shape"
   ]
  },
  {
   "cell_type": "markdown",
   "id": "9b0e5a6b",
   "metadata": {},
   "source": [
    "### Splitting Data"
   ]
  },
  {
   "cell_type": "code",
   "execution_count": null,
   "id": "a416b2f8",
   "metadata": {},
   "outputs": [],
   "source": [
    "X = train_df.drop(columns=['TARGET', 'SK_ID_CURR'])\n",
    "y = train_df['TARGET']"
   ]
  },
  {
   "cell_type": "code",
   "execution_count": null,
   "id": "6ebab5ca",
   "metadata": {},
   "outputs": [],
   "source": [
    "from sklearn.model_selection import StratifiedKFold, train_test_split\n",
    "X_train, X_test, y_train, y_test = train_test_split(\n",
    "    X, y, \n",
    "    test_size=0.25, \n",
    "    stratify=y, \n",
    "    random_state=42\n",
    ")"
   ]
  },
  {
   "cell_type": "markdown",
   "id": "879fa80c",
   "metadata": {},
   "source": [
    "#### Statistik data"
   ]
  },
  {
   "cell_type": "code",
   "execution_count": null,
   "id": "a934fa59",
   "metadata": {},
   "outputs": [],
   "source": [
    "print(\"Jumlah data sebelum split:\")\n",
    "print(y.value_counts(normalize=True))\n",
    "print()\n",
    "\n",
    "print(\"Jumlah data setelah split:\")\n",
    "print(\"Train set:\")\n",
    "print(y_train.value_counts(normalize=True))\n",
    "print()\n",
    "print(\"Test set:\")\n",
    "print(y_test.value_counts(normalize=True))"
   ]
  },
  {
   "cell_type": "markdown",
   "id": "e05b03d4",
   "metadata": {},
   "source": [
    "#### Kfold"
   ]
  },
  {
   "cell_type": "code",
   "execution_count": null,
   "id": "f4ff37e4",
   "metadata": {},
   "outputs": [],
   "source": [
    "kfold = StratifiedKFold(n_splits=10, shuffle=True, random_state=42)"
   ]
  },
  {
   "cell_type": "markdown",
   "id": "5e9045be",
   "metadata": {},
   "source": [
    "## Eksperimen Model Klasifikasi"
   ]
  },
  {
   "cell_type": "markdown",
   "id": "eff3708b",
   "metadata": {},
   "source": [
    "### 1. KNN"
   ]
  },
  {
   "cell_type": "markdown",
   "id": "e048dd28",
   "metadata": {},
   "source": [
    "### 2. Naive Bayes"
   ]
  },
  {
   "cell_type": "markdown",
   "id": "084ace89",
   "metadata": {},
   "source": [
    "### 3. Logistic Regression"
   ]
  },
  {
   "cell_type": "markdown",
   "id": "d40b3aa9",
   "metadata": {},
   "source": [
    "### 4. SVM"
   ]
  },
  {
   "cell_type": "markdown",
   "id": "f5ec7cbf",
   "metadata": {},
   "source": [
    "### 5. Decision Tree Classifier"
   ]
  },
  {
   "cell_type": "code",
   "execution_count": null,
   "id": "c9bcf668",
   "metadata": {},
   "outputs": [],
   "source": [
    "from sklearn.tree import DecisionTreeClassifier\n",
    "dt_model = DecisionTreeClassifier(random_state=1)\n",
    "dt_model.fit(X, y)\n",
    "y_pred = dt_model.predict(X_test)"
   ]
  },
  {
   "cell_type": "markdown",
   "id": "af8c2ae8",
   "metadata": {},
   "source": [
    "#### Max Depth"
   ]
  },
  {
   "cell_type": "code",
   "execution_count": null,
   "id": "e489b7c2",
   "metadata": {},
   "outputs": [],
   "source": [
    "from sklearn.tree import DecisionTreeClassifier\n",
    "from sklearn.metrics import accuracy_score, precision_score, recall_score, f1_score, roc_auc_score, roc_curve, auc\n",
    "import matplotlib.pyplot as plt\n",
    "import numpy as np\n",
    "\n",
    "# Define the range of max_depth values\n",
    "max_depths = np.linspace(1, 32, 32, endpoint=True, dtype=int)\n",
    "\n",
    "# Initialize lists to store results\n",
    "train_results = {'accuracy': [], 'precision': [], 'recall': [], 'f1': [], 'roc_auc': []}\n",
    "test_results = {'accuracy': [], 'precision': [], 'recall': [], 'f1': [], 'roc_auc': []}\n",
    "\n",
    "# Loop through each max_depth value\n",
    "for depth in max_depths:\n",
    "    dt = DecisionTreeClassifier(max_depth=depth, random_state=42)\n",
    "    dt.fit(X_train, y_train)\n",
    "    \n",
    "    # Predictions on training data\n",
    "    train_pred = dt.predict(X_train)\n",
    "    train_prob = dt.predict_proba(X_train)[:, 1]\n",
    "    \n",
    "    # Calculate metrics for training data\n",
    "    train_results['accuracy'].append(accuracy_score(y_train, train_pred))\n",
    "    train_results['precision'].append(precision_score(y_train, train_pred, zero_division=0))\n",
    "    train_results['recall'].append(recall_score(y_train, train_pred, zero_division=0))\n",
    "    train_results['f1'].append(f1_score(y_train, train_pred, zero_division=0))\n",
    "    train_results['roc_auc'].append(roc_auc_score(y_train, train_prob))\n",
    "    \n",
    "    # Predictions on testing data\n",
    "    test_pred = dt.predict(X_test)\n",
    "    test_prob = dt.predict_proba(X_test)[:, 1]\n",
    "    \n",
    "    # Calculate metrics for testing data\n",
    "    test_results['accuracy'].append(accuracy_score(y_test, test_pred))\n",
    "    test_results['precision'].append(precision_score(y_test, test_pred, zero_division=0))\n",
    "    test_results['recall'].append(recall_score(y_test, test_pred, zero_division=0))\n",
    "    test_results['f1'].append(f1_score(y_test, test_pred, zero_division=0))\n",
    "    test_results['roc_auc'].append(roc_auc_score(y_test, test_prob))\n",
    "\n",
    "# Plot the results\n",
    "plt.figure(figsize=(12, 8))\n",
    "\n",
    "# Plot ROC AUC\n",
    "plt.plot(max_depths, train_results['roc_auc'], 'b', label='Train ROC AUC')\n",
    "plt.plot(max_depths, test_results['roc_auc'], 'r', label='Test ROC AUC')\n",
    "\n",
    "# Plot Accuracy\n",
    "plt.plot(max_depths, train_results['accuracy'], 'g--', label='Train Accuracy')\n",
    "plt.plot(max_depths, test_results['accuracy'], 'y--', label='Test Accuracy')\n",
    "\n",
    "# Plot Precision\n",
    "plt.plot(max_depths, train_results['precision'], 'c-.', label='Train Precision')\n",
    "plt.plot(max_depths, test_results['precision'], 'm-.', label='Test Precision')\n",
    "\n",
    "# Plot Recall\n",
    "plt.plot(max_depths, train_results['recall'], 'k:', label='Train Recall')\n",
    "plt.plot(max_depths, test_results['recall'], 'orange', label='Test Recall')\n",
    "\n",
    "# Plot F1-Score\n",
    "plt.plot(max_depths, train_results['f1'], 'purple', label='Train F1-Score')\n",
    "plt.plot(max_depths, test_results['f1'], 'brown', label='Test F1-Score')\n",
    "\n",
    "# Add labels and legend\n",
    "plt.xlabel('Tree Depth')\n",
    "plt.ylabel('Score')\n",
    "plt.title('Decision Tree Performance Metrics vs Tree Depth')\n",
    "plt.legend(loc='best')\n",
    "plt.grid()\n",
    "plt.show()\n"
   ]
  },
  {
   "cell_type": "code",
   "execution_count": null,
   "id": "bda097b5",
   "metadata": {},
   "outputs": [],
   "source": [
    "# Define the range of max_depth values\n",
    "max_depths = [14, 15]\n",
    "\n",
    "# Initialize lists to store results\n",
    "train_results = {'accuracy': [], 'precision': [], 'recall': [], 'f1': [], 'roc_auc': []}\n",
    "test_results = {'accuracy': [], 'precision': [], 'recall': [], 'f1': [], 'roc_auc': []}\n",
    "\n",
    "# Loop through each max_depth value\n",
    "for depth in max_depths:\n",
    "    print(f\"\\nEvaluating max_depth={depth}\")\n",
    "    dt = DecisionTreeClassifier(max_depth=depth, random_state=42)\n",
    "    \n",
    "    for fold, (train_idx, val_idx) in enumerate(kfold.split(X_train, y_train), 1):\n",
    "        # Split the data for the current fold\n",
    "        X_tr, X_val = X_train.iloc[train_idx], X_train.iloc[val_idx]\n",
    "        y_tr, y_val = y_train.iloc[train_idx], y_train.iloc[val_idx]\n",
    "        \n",
    "        # Train the model on the training fold\n",
    "        dt.fit(X_tr, y_tr)\n",
    "        \n",
    "        # Predictions on training fold\n",
    "        train_pred = dt.predict(X_tr)\n",
    "        train_prob = dt.predict_proba(X_tr)[:, 1]\n",
    "        \n",
    "        # Calculate metrics for training fold\n",
    "        train_accuracy = accuracy_score(y_tr, train_pred)\n",
    "        train_precision = precision_score(y_tr, train_pred, zero_division=0)\n",
    "        train_recall = recall_score(y_tr, train_pred, zero_division=0)\n",
    "        train_f1 = f1_score(y_tr, train_pred, zero_division=0)\n",
    "        train_roc_auc = roc_auc_score(y_tr, train_prob)\n",
    "        \n",
    "        # Store training metrics\n",
    "        train_results['accuracy'].append(train_accuracy)\n",
    "        train_results['precision'].append(train_precision)\n",
    "        train_results['recall'].append(train_recall)\n",
    "        train_results['f1'].append(train_f1)\n",
    "        train_results['roc_auc'].append(train_roc_auc)\n",
    "        \n",
    "        # Predictions on validation fold\n",
    "        val_pred = dt.predict(X_val)\n",
    "        val_prob = dt.predict_proba(X_val)[:, 1]\n",
    "        \n",
    "        # Calculate metrics for validation fold\n",
    "        val_accuracy = accuracy_score(y_val, val_pred)\n",
    "        val_precision = precision_score(y_val, val_pred, zero_division=0)\n",
    "        val_recall = recall_score(y_val, val_pred, zero_division=0)\n",
    "        val_f1 = f1_score(y_val, val_pred, zero_division=0)\n",
    "        val_roc_auc = roc_auc_score(y_val, val_prob)\n",
    "        \n",
    "        # Store validation metrics\n",
    "        test_results['accuracy'].append(val_accuracy)\n",
    "        test_results['precision'].append(val_precision)\n",
    "        test_results['recall'].append(val_recall)\n",
    "        test_results['f1'].append(val_f1)\n",
    "        test_results['roc_auc'].append(val_roc_auc)\n",
    "        \n",
    "        # Print metrics for the current fold\n",
    "        print(f\"Fold {fold}\")\n",
    "        print(f\"  Train Metrics: Accuracy={train_accuracy:.4f}, Precision={train_precision:.4f}, Recall={train_recall:.4f}, F1={train_f1:.4f}, ROC AUC={train_roc_auc:.4f}\")\n",
    "        print(f\"  Test Metrics:  Accuracy={val_accuracy:.4f}, Precision={val_precision:.4f}, Recall={val_recall:.4f}, F1={val_f1:.4f}, ROC AUC={val_roc_auc:.4f}\")\n",
    "\n",
    "    # Calculate and print mean and standard deviation for each metric\n",
    "    train_df = pd.DataFrame(train_results)\n",
    "    test_df = pd.DataFrame(test_results)\n",
    "\n",
    "    summary = {\n",
    "        'Train Mean': train_df.mean(),\n",
    "        'Train Std': train_df.std(),\n",
    "        'Test Mean': test_df.mean(),\n",
    "        'Test Std': test_df.std()\n",
    "    }\n",
    "\n",
    "    summary_df = pd.DataFrame(summary)\n",
    "    print(\"\\nSummary of 10-Fold Cross-Validation Metrics:\")\n",
    "    print(summary_df.round(4))\n"
   ]
  },
  {
   "cell_type": "markdown",
   "id": "cefdb0c7",
   "metadata": {},
   "source": []
  },
  {
   "cell_type": "markdown",
   "id": "9a8c90ab",
   "metadata": {},
   "source": [
    "### 6.  Back Propagation Neural Network (BPNN)"
   ]
  },
  {
   "cell_type": "code",
   "execution_count": null,
   "id": "1a2d6288",
   "metadata": {},
   "outputs": [],
   "source": []
  }
 ],
 "metadata": {
  "kernelspec": {
   "display_name": "Python 3",
   "language": "python",
   "name": "python3"
  },
  "language_info": {
   "codemirror_mode": {
    "name": "ipython",
    "version": 3
   },
   "file_extension": ".py",
   "mimetype": "text/x-python",
   "name": "python",
   "nbconvert_exporter": "python",
   "pygments_lexer": "ipython3",
   "version": "3.11.9"
  }
 },
 "nbformat": 4,
 "nbformat_minor": 5
}
